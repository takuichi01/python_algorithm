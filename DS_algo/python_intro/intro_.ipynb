{
 "cells": [
  {
   "cell_type": "code",
   "execution_count": 1,
   "metadata": {},
   "outputs": [
    {
     "data": {
      "text/plain": [
       "int"
      ]
     },
     "execution_count": 1,
     "metadata": {},
     "output_type": "execute_result"
    }
   ],
   "source": [
    "type(2)"
   ]
  },
  {
   "cell_type": "code",
   "execution_count": 2,
   "metadata": {},
   "outputs": [
    {
     "name": "stdout",
     "output_type": "stream",
     "text": [
      "1/2/3\n"
     ]
    }
   ],
   "source": [
    "print(1,2,3, sep='/')"
   ]
  },
  {
   "cell_type": "code",
   "execution_count": 3,
   "metadata": {},
   "outputs": [
    {
     "data": {
      "text/plain": [
       "5"
      ]
     },
     "execution_count": 3,
     "metadata": {},
     "output_type": "execute_result"
    }
   ],
   "source": [
    "#コードを文字列として受けるが、その文字列のコードの出力を返す変数　eval\n",
    "eval('2+3')"
   ]
  },
  {
   "cell_type": "code",
   "execution_count": 4,
   "metadata": {},
   "outputs": [
    {
     "name": "stdout",
     "output_type": "stream",
     "text": [
      "0 a\n",
      "1 b\n",
      "2 c\n"
     ]
    }
   ],
   "source": [
    "#for文で添字も欲しい、リストの内容も欲しい時用いる組み込み関数\n",
    "for i,c in enumerate('abc'):\n",
    "  print(i,c)"
   ]
  },
  {
   "cell_type": "code",
   "execution_count": 5,
   "metadata": {},
   "outputs": [
    {
     "name": "stdout",
     "output_type": "stream",
     "text": [
      "Help on function func_cal in module __main__:\n",
      "\n",
      "func_cal(a, b, prefix='<-- ', postfix=' -->')\n",
      "    この関数は与えられた数字を割り算して強調する文字列を出力として返します\n",
      "\n"
     ]
    }
   ],
   "source": [
    "#docstring：関数を定義したときにコメントを書く表記の仕方\n",
    "#この方法で書くと関数名.__doc__やhelp(関数名)で関数がどのようなものか確認できる\n",
    "\n",
    "def func_cal(a,b, prefix='<-- ', postfix=' -->'):\n",
    "  \"\"\"\n",
    "  この関数は与えられた数字を割り算して強調する文字列を出力として返します\n",
    "  \"\"\"\n",
    "\n",
    "  return prefix + str(a / b) + postfix\n",
    "\n",
    "func_cal(3,2)\n",
    "\n",
    "func_cal.__doc__\n",
    "help(func_cal)\n",
    "\n"
   ]
  },
  {
   "cell_type": "code",
   "execution_count": 7,
   "metadata": {},
   "outputs": [
    {
     "name": "stdout",
     "output_type": "stream",
     "text": [
      "Student(id=1, name='Hanako')\n"
     ]
    }
   ],
   "source": [
    "#namedtupleとは\n",
    "#タプルの各要素と名前を結びつけられる\n",
    "\n",
    "from collections import namedtuple\n",
    "\n",
    "Student = namedtuple('Student',['id', 'name'])\n",
    "A = Student(1, 'Hanako')\n",
    "A.name\n",
    "print(A)"
   ]
  },
  {
   "cell_type": "code",
   "execution_count": 8,
   "metadata": {},
   "outputs": [
    {
     "data": {
      "text/plain": [
       "'問題abc  10/2 = 5.0'"
      ]
     },
     "execution_count": 8,
     "metadata": {},
     "output_type": "execute_result"
    }
   ],
   "source": [
    "a = 10\n",
    "b = 'abc'\n",
    "c = 2\n",
    "\n",
    "'問題{}  {}/{} = {}'.format(b,a,c,a/c)"
   ]
  },
  {
   "cell_type": "code",
   "execution_count": 10,
   "metadata": {},
   "outputs": [
    {
     "data": {
      "text/plain": [
       "'abc  10/2 = 5.0'"
      ]
     },
     "execution_count": 10,
     "metadata": {},
     "output_type": "execute_result"
    }
   ],
   "source": [
    "f'{b}  {a}/{c} = {a/c}'"
   ]
  },
  {
   "cell_type": "code",
   "execution_count": 12,
   "metadata": {},
   "outputs": [
    {
     "data": {
      "text/plain": [
       "['1', '2', '3']"
      ]
     },
     "execution_count": 12,
     "metadata": {},
     "output_type": "execute_result"
    }
   ],
   "source": [
    "#組み込み関数mapの使い方\n",
    "#関数とリストなどを引数にとり、リスト内の要素に対して関数の操作を全て行う\n",
    "list(map(str, [1,2,3]))"
   ]
  },
  {
   "cell_type": "code",
   "execution_count": null,
   "metadata": {},
   "outputs": [],
   "source": []
  }
 ],
 "metadata": {
  "interpreter": {
   "hash": "1c122abf089e2e4e9a56183718b74af39ed078cf6c309a564eb4414aa1561d96"
  },
  "kernelspec": {
   "display_name": "Python 3.8.5 64-bit ('base': conda)",
   "language": "python",
   "name": "python3"
  },
  "language_info": {
   "codemirror_mode": {
    "name": "ipython",
    "version": 3
   },
   "file_extension": ".py",
   "mimetype": "text/x-python",
   "name": "python",
   "nbconvert_exporter": "python",
   "pygments_lexer": "ipython3",
   "version": "3.8.5"
  },
  "orig_nbformat": 4
 },
 "nbformat": 4,
 "nbformat_minor": 2
}
